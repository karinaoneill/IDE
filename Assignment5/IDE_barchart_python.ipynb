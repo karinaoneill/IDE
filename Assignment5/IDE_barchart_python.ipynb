{
 "cells": [
  {
   "cell_type": "code",
   "execution_count": 27,
   "metadata": {
    "collapsed": false
   },
   "outputs": [],
   "source": [
    "%matplotlib inline\n",
    "import pandas as pd\n",
    "import matplotlib.pyplot as plt\n",
    "\n",
    "data = pd.read_csv(\"sf_crime.csv\", sep=\",\")\n",
    "\n",
    "data2 = data[['Category','DayOfWeek']]"
   ]
  },
  {
   "cell_type": "code",
   "execution_count": 18,
   "metadata": {
    "collapsed": false
   },
   "outputs": [
    {
     "data": {
      "text/plain": [
       "pandas.core.frame.DataFrame"
      ]
     },
     "execution_count": 18,
     "metadata": {},
     "output_type": "execute_result"
    }
   ],
   "source": [
    "type(data2)"
   ]
  },
  {
   "cell_type": "code",
   "execution_count": 31,
   "metadata": {
    "collapsed": false
   },
   "outputs": [],
   "source": [
    "mon=len(data2.groupby('DayOfWeek')['Category'].sum()['Monday'])\n",
    "tues=len(data2.groupby('DayOfWeek')['Category'].sum()['Tuesday'])\n",
    "wed=len(data2.groupby('DayOfWeek')['Category'].sum()['Wednesday'])\n",
    "thurs=len(data2.groupby('DayOfWeek')['Category'].sum()['Thursday'])\n",
    "fri=len(data2.groupby('DayOfWeek')['Category'].sum()['Friday'])\n",
    "sat=len(data2.groupby('DayOfWeek')['Category'].sum()['Saturday'])\n",
    "sun=len(data2.groupby('DayOfWeek')['Category'].sum()['Sunday'])"
   ]
  },
  {
   "cell_type": "code",
   "execution_count": 34,
   "metadata": {
    "collapsed": false
   },
   "outputs": [
    {
     "data": {
      "text/plain": [
       "(16184, 16026, 17629, 17402, 17350, 16490, 15942)"
      ]
     },
     "execution_count": 34,
     "metadata": {},
     "output_type": "execute_result"
    }
   ],
   "source": [
    "mon, tues, wed, thurs, fri, sat, sun"
   ]
  },
  {
   "cell_type": "code",
   "execution_count": null,
   "metadata": {
    "collapsed": false
   },
   "outputs": [],
   "source": []
  },
  {
   "cell_type": "code",
   "execution_count": null,
   "metadata": {
    "collapsed": true
   },
   "outputs": [],
   "source": []
  }
 ],
 "metadata": {
  "anaconda-cloud": {},
  "kernelspec": {
   "display_name": "Python [default]",
   "language": "python",
   "name": "python3"
  },
  "language_info": {
   "codemirror_mode": {
    "name": "ipython",
    "version": 3
   },
   "file_extension": ".py",
   "mimetype": "text/x-python",
   "name": "python",
   "nbconvert_exporter": "python",
   "pygments_lexer": "ipython3",
   "version": "3.5.2"
  }
 },
 "nbformat": 4,
 "nbformat_minor": 1
}
